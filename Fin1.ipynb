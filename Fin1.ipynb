{
 "cells": [
  {
   "cell_type": "markdown",
   "metadata": {},
   "source": [
    "#### Imports"
   ]
  },
  {
   "cell_type": "code",
   "execution_count": 6,
   "metadata": {},
   "outputs": [],
   "source": [
    "import numpy as np\n",
    "import pandas as pd\n",
    "from pandas_datareader import data as web\n",
    "import matplotlib.pyplot as plt\n",
    "import matplotlib.dates as mdates\n",
    "%matplotlib inline\n",
    "import datetime as dt\n",
    "import mplfinance as mpf"
   ]
  },
  {
   "cell_type": "markdown",
   "metadata": {},
   "source": [
    "#### Function that Saves Stock Data to CSV"
   ]
  },
  {
   "cell_type": "code",
   "execution_count": 7,
   "metadata": {},
   "outputs": [],
   "source": [
    "def save_to_csv_from_yahoo(ticker, syear, smonth, sday, eyear, emonth, eday):\n",
    "    start = dt.datetime(syear, smonth, sday)\n",
    "    end = dt.datetime(eyear, emonth, eday)\n",
    "\n",
    "    df = web.DataReader(ticker, 'yahoo', start, end)\n",
    "# Saving the file from internet to the computer (to file path Ctrl+L in the folder)\n",
    "    df.to_csv(\"/home/johnson/DSML/Finance.py/\" + ticker + \".csv\")\n",
    "    return df\n",
    "# Test with the test function."
   ]
  },
  {
   "cell_type": "markdown",
   "metadata": {},
   "source": [
    "#### Function that Returns a Dataframe from CSV"
   ]
  },
  {
   "cell_type": "code",
   "execution_count": 10,
   "metadata": {},
   "outputs": [],
   "source": [
    "def get_df_from_csv(ticker):\n",
    "    try:\n",
    "        df = pd.read_csv(\"/home/johnson/DSML/Finance.py/\" + ticker + \".csv\")\n",
    "\n",
    "    except FileNotFoundError:\n",
    "        print(\"File doesn't Exists\")\n",
    "    else:\n",
    "        return df"
   ]
  },
  {
   "cell_type": "markdown",
   "metadata": {},
   "source": [
    "#### Add Daily Return to Dataframe"
   ]
  },
  {
   "cell_type": "code",
   "execution_count": 12,
   "metadata": {},
   "outputs": [],
   "source": [
    "# We calculate a percentage rate of return for each day to compare investments.\n",
    "# Simple Rate of Return = (End Price - Beginning Price) / Beginning Price or (EP/BP)-1\n",
    "\n",
    "def add_daily_return_to_df(df, ticker):\n",
    "     df['daily_return'] = (df['Adj Close'] / df['Adj Close'].shift(1)) - 1\n",
    "     df.to_csv(\"/home/johnson/DSML/Finance.py/\" + ticker + \".csv\")\n",
    "     return df"
   ]
  },
  {
   "cell_type": "markdown",
   "metadata": {},
   "source": [
    "#### Returns Total Return over Time"
   ]
  },
  {
   "cell_type": "code",
   "execution_count": 18,
   "metadata": {},
   "outputs": [],
   "source": [
    "def get_return_defined_time(df, syear, smonth, sday, eyear, emonth, eday):\n",
    "    start = f\"{syear} - {smonth} - {sday}\"\n",
    "    end = f\"{eyear} - {emonth} - {eday}\"\n",
    "    df['Date'] = pd.to_datetime(df['Date'])\n",
    "    mask = (df['Date'] >= start) & (df['Date'] <=end) \n",
    "    daily_ret = df.loc[mask]['daily_return'].mean()\n",
    "    df2 = df.loc[mask]\n",
    "    days = df2.shape[0]\n",
    "    return(days * daily_ret)"
   ]
  },
  {
   "cell_type": "markdown",
   "metadata": {},
   "source": [
    "#### Matplotlib Finance"
   ]
  },
  {
   "cell_type": "code",
   "execution_count": 23,
   "metadata": {},
   "outputs": [],
   "source": [
    "def mplfinance_plot(ticker, chart_type, syear, smonth, sday, eyear, emonth, eday):\n",
    "    start = f\"{syear} - {smonth} - {sday}\"\n",
    "    end = f\"{eyear} - {emonth} - {eday}\"\n",
    "    try:\n",
    "        df = pd.read_csv(\"/home/johnson/DSML/Finance.py/\" + ticker + \".csv\")\n",
    "\n",
    "    except FileNotFoundError:\n",
    "        print(\"File doesn't Exists\")\n",
    "    else:\n",
    "        df.index = pd.DatetimeIndex(df['Date'])\n",
    "        df_sub = df.loc[start:end]\n",
    "        mpf.plot(df_sub, type = 'candle')\n",
    "        mpf.plot(df_sub, type = 'line')\n",
    "        mpf.plot(df_sub, type = 'ohlc', mav = 4)\n",
    "\n",
    "        s = mpf.make_mpf_style(base_mpf_style = 'charles', rc = {'font.size': 8})\n",
    "        fig = mpf.figure(figsize=(12, 8), style = s)\n",
    "        ax = fig.add_subplot(2, 1, 2)\n",
    "        av = fig.add_subplot(2, 1, 2, sharex = ax)\n",
    "        mpf.plot(df_sub, type=chart_type, mav=(3,5,7), ax=ax, volume=av, show_nontrading=True)\n"
   ]
  },
  {
   "cell_type": "markdown",
   "metadata": {},
   "source": [
    "#### Simple Price Plot"
   ]
  },
  {
   "cell_type": "code",
   "execution_count": 32,
   "metadata": {},
   "outputs": [],
   "source": [
    "def price_plot(ticker, syear, smonth, sday, eyear, emonth, eday):\n",
    "    start = f\"{syear} - {smonth} - {sday}\"\n",
    "    end = f\"{eyear} - {emonth} - {eday}\"\n",
    "    try:\n",
    "        df = pd.read_csv(\"/home/johnson/DSML/Finance.py/\" + ticker + \".csv\")\n",
    "\n",
    "    except FileNotFoundError:\n",
    "        print(\"File doesn't Exists\")\n",
    "    else:\n",
    "        df.index = pd.DatetimeIndex(df['Date'])\n",
    "        df_sub = df.loc[start:end]\n",
    "        df_np = df_sub.to_numpy()\n",
    "        np_adj_close = df_np[:,5]\n",
    "        date_arr = df_np[:,1]\n",
    "        fig = plt.figure(figsize=(10, 6), dpi = 100)\n",
    "        axes = fig.add_axes([0,0,1,1])\n",
    "        axes.plot(date_arr, np_adj_close, color='navy')\n",
    "        axes.xaxis.set_major_locator(plt.MaxNLocator(8))\n",
    "        axes.grid(True, color = '0.6', dashes = (5, 2))\n",
    "        axes.set_facecolor('#FAEBD7')"
   ]
  },
  {
   "cell_type": "markdown",
   "metadata": {},
   "source": [
    "#### Download Multiple Stocks"
   ]
  },
  {
   "cell_type": "code",
   "execution_count": 41,
   "metadata": {},
   "outputs": [],
   "source": [
    "def download_multiple_stocks(syear, smonth, sday, eyear, emonth, eday, *args):\n",
    "    for x in args:\n",
    "        save_to_csv_from_yahoo(x, syear, smonth, sday, eyear, emonth, eday)"
   ]
  },
  {
   "cell_type": "code",
   "execution_count": null,
   "metadata": {},
   "outputs": [],
   "source": []
  },
  {
   "cell_type": "code",
   "execution_count": null,
   "metadata": {},
   "outputs": [],
   "source": []
  },
  {
   "cell_type": "code",
   "execution_count": null,
   "metadata": {},
   "outputs": [],
   "source": []
  },
  {
   "cell_type": "markdown",
   "metadata": {},
   "source": [
    "#### Test Function"
   ]
  },
  {
   "cell_type": "code",
   "execution_count": 45,
   "metadata": {},
   "outputs": [
    {
     "name": "stdout",
     "output_type": "stream",
     "text": [
      "Total Return:  0.05249787088944713\n"
     ]
    }
   ],
   "source": [
    "save_to_csv_from_yahoo('AMZN', 2021, 1, 1, 2022, 1, 1)\n",
    "\n",
    "AMZN = get_df_from_csv('AMZN')\n",
    "\n",
    "add_daily_return_to_df(AMZN, 'AMZN')\n",
    "\n",
    "AMZN\n",
    "tot_ret = get_return_defined_time(AMZN, 2021, 1, 1, 2022, 1, 1)\n",
    "print(\"Total Return: \", tot_ret)\n",
    "\n",
    "# mplfinance_plot('AMZN', 'ohlc', 2021, 1, 1, 2022, 1, 1)\n",
    "\n",
    "# price_plot('AMZN', 2021, 1, 1, 2022, 1, 1)\n",
    "\n",
    "tickers = [\"FB\", \"AAPL\", \"NFLX\", \"GOOG\"]\n",
    "download_multiple_stocks(2021, 1, 1, 2022, 1, 1, *tickers)"
   ]
  },
  {
   "cell_type": "code",
   "execution_count": null,
   "metadata": {},
   "outputs": [],
   "source": []
  },
  {
   "cell_type": "code",
   "execution_count": null,
   "metadata": {},
   "outputs": [],
   "source": []
  },
  {
   "cell_type": "code",
   "execution_count": null,
   "metadata": {},
   "outputs": [],
   "source": []
  },
  {
   "cell_type": "code",
   "execution_count": null,
   "metadata": {},
   "outputs": [],
   "source": []
  },
  {
   "cell_type": "code",
   "execution_count": null,
   "metadata": {},
   "outputs": [],
   "source": []
  },
  {
   "cell_type": "code",
   "execution_count": null,
   "metadata": {},
   "outputs": [],
   "source": []
  },
  {
   "cell_type": "code",
   "execution_count": null,
   "metadata": {},
   "outputs": [],
   "source": []
  },
  {
   "cell_type": "code",
   "execution_count": null,
   "metadata": {},
   "outputs": [],
   "source": []
  },
  {
   "cell_type": "code",
   "execution_count": null,
   "metadata": {},
   "outputs": [],
   "source": []
  },
  {
   "cell_type": "code",
   "execution_count": null,
   "metadata": {},
   "outputs": [],
   "source": []
  },
  {
   "cell_type": "code",
   "execution_count": null,
   "metadata": {},
   "outputs": [],
   "source": []
  },
  {
   "cell_type": "code",
   "execution_count": null,
   "metadata": {},
   "outputs": [],
   "source": []
  },
  {
   "cell_type": "code",
   "execution_count": null,
   "metadata": {},
   "outputs": [],
   "source": []
  },
  {
   "cell_type": "code",
   "execution_count": null,
   "metadata": {},
   "outputs": [],
   "source": []
  },
  {
   "cell_type": "code",
   "execution_count": null,
   "metadata": {},
   "outputs": [],
   "source": []
  }
 ],
 "metadata": {
  "interpreter": {
   "hash": "77ac1adf317d78f4032b658603c0b261cb865e7cb53d1ee6dc3852142ad74f17"
  },
  "kernelspec": {
   "display_name": "Python 3.9.6 ('DSML')",
   "language": "python",
   "name": "python3"
  },
  "language_info": {
   "codemirror_mode": {
    "name": "ipython",
    "version": 3
   },
   "file_extension": ".py",
   "mimetype": "text/x-python",
   "name": "python",
   "nbconvert_exporter": "python",
   "pygments_lexer": "ipython3",
   "version": "3.9.6"
  },
  "orig_nbformat": 4
 },
 "nbformat": 4,
 "nbformat_minor": 2
}
