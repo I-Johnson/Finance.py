{
 "cells": [
  {
   "cell_type": "markdown",
   "metadata": {},
   "source": [
    "#### Imports"
   ]
  },
  {
   "cell_type": "code",
   "execution_count": 6,
   "metadata": {},
   "outputs": [],
   "source": [
    "import numpy as np\n",
    "import pandas as pd\n",
    "from pandas_datareader import data as web\n",
    "import matplotlib.pyplot as plt\n",
    "import matplotlib.dates as mdates\n",
    "%matplotlib inline\n",
    "import datetime as dt\n",
    "import mplfinance as mpf"
   ]
  },
  {
   "cell_type": "markdown",
   "metadata": {},
   "source": [
    "#### Function that Saves Stock Data to CSV"
   ]
  },
  {
   "cell_type": "code",
   "execution_count": 7,
   "metadata": {},
   "outputs": [],
   "source": [
    "def save_to_csv_from_yahoo(ticker, syear, smonth, sday, eyear, emonth, eday):\n",
    "    start = dt.datetime(syear, smonth, sday)\n",
    "    end = dt.datetime(eyear, emonth, eday)\n",
    "\n",
    "    df = web.DataReader(ticker, 'yahoo', start, end)\n",
    "# Saving the file from internet to the computer (to file path Ctrl+L in the folder)\n",
    "    df.to_csv(\"/home/johnson/DSML/Finance.py/\" + ticker + \".csv\")\n",
    "    return df\n",
    "# Test with the test function."
   ]
  },
  {
   "cell_type": "markdown",
   "metadata": {},
   "source": [
    "#### Function that Returns a Dataframe from CSV"
   ]
  },
  {
   "cell_type": "code",
   "execution_count": 10,
   "metadata": {},
   "outputs": [],
   "source": [
    "def get_df_from_csv(ticker):\n",
    "    try:\n",
    "        df = pd.read_csv(\"/home/johnson/DSML/Finance.py/\" + ticker + \".csv\")\n",
    "\n",
    "    except FileNotFoundError:\n",
    "        print(\"File doesn't Exists\")\n",
    "    else:\n",
    "        return df"
   ]
  },
  {
   "cell_type": "markdown",
   "metadata": {},
   "source": [
    "#### Add Daily Return to Dataframe"
   ]
  },
  {
   "cell_type": "code",
   "execution_count": 12,
   "metadata": {},
   "outputs": [],
   "source": [
    "# We calculate a percentage rate of return for each day to compare investments.\n",
    "# Simple Rate of Return = (End Price - Beginning Price) / Beginning Price or (EP/BP)-1\n",
    "\n",
    "def add_daily_return_to_df(df, ticker):\n",
    "     df['daily_return'] = (df['Adj Close'] / df['Adj Close'].shift(1)) - 1\n",
    "     df.to_csv(\"/home/johnson/DSML/Finance.py/\" + ticker + \".csv\")\n",
    "     return df"
   ]
  },
  {
   "cell_type": "code",
   "execution_count": null,
   "metadata": {},
   "outputs": [],
   "source": []
  },
  {
   "cell_type": "code",
   "execution_count": null,
   "metadata": {},
   "outputs": [],
   "source": []
  },
  {
   "cell_type": "code",
   "execution_count": null,
   "metadata": {},
   "outputs": [],
   "source": []
  },
  {
   "cell_type": "code",
   "execution_count": null,
   "metadata": {},
   "outputs": [],
   "source": []
  },
  {
   "cell_type": "code",
   "execution_count": null,
   "metadata": {},
   "outputs": [],
   "source": []
  },
  {
   "cell_type": "code",
   "execution_count": null,
   "metadata": {},
   "outputs": [],
   "source": []
  },
  {
   "cell_type": "code",
   "execution_count": null,
   "metadata": {},
   "outputs": [],
   "source": []
  },
  {
   "cell_type": "code",
   "execution_count": null,
   "metadata": {},
   "outputs": [],
   "source": []
  },
  {
   "cell_type": "code",
   "execution_count": null,
   "metadata": {},
   "outputs": [],
   "source": []
  },
  {
   "cell_type": "code",
   "execution_count": null,
   "metadata": {},
   "outputs": [],
   "source": []
  },
  {
   "cell_type": "code",
   "execution_count": null,
   "metadata": {},
   "outputs": [],
   "source": []
  },
  {
   "cell_type": "markdown",
   "metadata": {},
   "source": [
    "#### Test Function"
   ]
  },
  {
   "cell_type": "code",
   "execution_count": 13,
   "metadata": {},
   "outputs": [
    {
     "data": {
      "text/html": [
       "<div>\n",
       "<style scoped>\n",
       "    .dataframe tbody tr th:only-of-type {\n",
       "        vertical-align: middle;\n",
       "    }\n",
       "\n",
       "    .dataframe tbody tr th {\n",
       "        vertical-align: top;\n",
       "    }\n",
       "\n",
       "    .dataframe thead th {\n",
       "        text-align: right;\n",
       "    }\n",
       "</style>\n",
       "<table border=\"1\" class=\"dataframe\">\n",
       "  <thead>\n",
       "    <tr style=\"text-align: right;\">\n",
       "      <th></th>\n",
       "      <th>Date</th>\n",
       "      <th>High</th>\n",
       "      <th>Low</th>\n",
       "      <th>Open</th>\n",
       "      <th>Close</th>\n",
       "      <th>Volume</th>\n",
       "      <th>Adj Close</th>\n",
       "      <th>daily_return</th>\n",
       "    </tr>\n",
       "  </thead>\n",
       "  <tbody>\n",
       "    <tr>\n",
       "      <th>0</th>\n",
       "      <td>2020-12-31</td>\n",
       "      <td>3282.919922</td>\n",
       "      <td>3241.199951</td>\n",
       "      <td>3275.000000</td>\n",
       "      <td>3256.929932</td>\n",
       "      <td>2957200</td>\n",
       "      <td>3256.929932</td>\n",
       "      <td>NaN</td>\n",
       "    </tr>\n",
       "    <tr>\n",
       "      <th>1</th>\n",
       "      <td>2021-01-04</td>\n",
       "      <td>3272.000000</td>\n",
       "      <td>3144.020020</td>\n",
       "      <td>3270.000000</td>\n",
       "      <td>3186.629883</td>\n",
       "      <td>4411400</td>\n",
       "      <td>3186.629883</td>\n",
       "      <td>-0.021585</td>\n",
       "    </tr>\n",
       "    <tr>\n",
       "      <th>2</th>\n",
       "      <td>2021-01-05</td>\n",
       "      <td>3223.379883</td>\n",
       "      <td>3165.060059</td>\n",
       "      <td>3166.010010</td>\n",
       "      <td>3218.510010</td>\n",
       "      <td>2655500</td>\n",
       "      <td>3218.510010</td>\n",
       "      <td>0.010004</td>\n",
       "    </tr>\n",
       "    <tr>\n",
       "      <th>3</th>\n",
       "      <td>2021-01-06</td>\n",
       "      <td>3197.510010</td>\n",
       "      <td>3131.159912</td>\n",
       "      <td>3146.479980</td>\n",
       "      <td>3138.379883</td>\n",
       "      <td>4394800</td>\n",
       "      <td>3138.379883</td>\n",
       "      <td>-0.024897</td>\n",
       "    </tr>\n",
       "    <tr>\n",
       "      <th>4</th>\n",
       "      <td>2021-01-07</td>\n",
       "      <td>3208.540039</td>\n",
       "      <td>3155.000000</td>\n",
       "      <td>3157.000000</td>\n",
       "      <td>3162.159912</td>\n",
       "      <td>3514500</td>\n",
       "      <td>3162.159912</td>\n",
       "      <td>0.007577</td>\n",
       "    </tr>\n",
       "    <tr>\n",
       "      <th>...</th>\n",
       "      <td>...</td>\n",
       "      <td>...</td>\n",
       "      <td>...</td>\n",
       "      <td>...</td>\n",
       "      <td>...</td>\n",
       "      <td>...</td>\n",
       "      <td>...</td>\n",
       "      <td>...</td>\n",
       "    </tr>\n",
       "    <tr>\n",
       "      <th>248</th>\n",
       "      <td>2021-12-27</td>\n",
       "      <td>3458.860107</td>\n",
       "      <td>3384.310059</td>\n",
       "      <td>3420.739990</td>\n",
       "      <td>3393.389893</td>\n",
       "      <td>2934400</td>\n",
       "      <td>3393.389893</td>\n",
       "      <td>-0.008178</td>\n",
       "    </tr>\n",
       "    <tr>\n",
       "      <th>249</th>\n",
       "      <td>2021-12-28</td>\n",
       "      <td>3443.520020</td>\n",
       "      <td>3382.709961</td>\n",
       "      <td>3403.649902</td>\n",
       "      <td>3413.219971</td>\n",
       "      <td>2731900</td>\n",
       "      <td>3413.219971</td>\n",
       "      <td>0.005844</td>\n",
       "    </tr>\n",
       "    <tr>\n",
       "      <th>250</th>\n",
       "      <td>2021-12-29</td>\n",
       "      <td>3424.239990</td>\n",
       "      <td>3372.010010</td>\n",
       "      <td>3416.800049</td>\n",
       "      <td>3384.020020</td>\n",
       "      <td>1787700</td>\n",
       "      <td>3384.020020</td>\n",
       "      <td>-0.008555</td>\n",
       "    </tr>\n",
       "    <tr>\n",
       "      <th>251</th>\n",
       "      <td>2021-12-30</td>\n",
       "      <td>3417.760010</td>\n",
       "      <td>3370.479980</td>\n",
       "      <td>3394.000000</td>\n",
       "      <td>3372.889893</td>\n",
       "      <td>1879200</td>\n",
       "      <td>3372.889893</td>\n",
       "      <td>-0.003289</td>\n",
       "    </tr>\n",
       "    <tr>\n",
       "      <th>252</th>\n",
       "      <td>2021-12-31</td>\n",
       "      <td>3387.000000</td>\n",
       "      <td>3331.169922</td>\n",
       "      <td>3379.120117</td>\n",
       "      <td>3334.340088</td>\n",
       "      <td>2391500</td>\n",
       "      <td>3334.340088</td>\n",
       "      <td>-0.011429</td>\n",
       "    </tr>\n",
       "  </tbody>\n",
       "</table>\n",
       "<p>253 rows × 8 columns</p>\n",
       "</div>"
      ],
      "text/plain": [
       "           Date         High          Low         Open        Close   Volume  \\\n",
       "0    2020-12-31  3282.919922  3241.199951  3275.000000  3256.929932  2957200   \n",
       "1    2021-01-04  3272.000000  3144.020020  3270.000000  3186.629883  4411400   \n",
       "2    2021-01-05  3223.379883  3165.060059  3166.010010  3218.510010  2655500   \n",
       "3    2021-01-06  3197.510010  3131.159912  3146.479980  3138.379883  4394800   \n",
       "4    2021-01-07  3208.540039  3155.000000  3157.000000  3162.159912  3514500   \n",
       "..          ...          ...          ...          ...          ...      ...   \n",
       "248  2021-12-27  3458.860107  3384.310059  3420.739990  3393.389893  2934400   \n",
       "249  2021-12-28  3443.520020  3382.709961  3403.649902  3413.219971  2731900   \n",
       "250  2021-12-29  3424.239990  3372.010010  3416.800049  3384.020020  1787700   \n",
       "251  2021-12-30  3417.760010  3370.479980  3394.000000  3372.889893  1879200   \n",
       "252  2021-12-31  3387.000000  3331.169922  3379.120117  3334.340088  2391500   \n",
       "\n",
       "       Adj Close  daily_return  \n",
       "0    3256.929932           NaN  \n",
       "1    3186.629883     -0.021585  \n",
       "2    3218.510010      0.010004  \n",
       "3    3138.379883     -0.024897  \n",
       "4    3162.159912      0.007577  \n",
       "..           ...           ...  \n",
       "248  3393.389893     -0.008178  \n",
       "249  3413.219971      0.005844  \n",
       "250  3384.020020     -0.008555  \n",
       "251  3372.889893     -0.003289  \n",
       "252  3334.340088     -0.011429  \n",
       "\n",
       "[253 rows x 8 columns]"
      ]
     },
     "execution_count": 13,
     "metadata": {},
     "output_type": "execute_result"
    }
   ],
   "source": [
    "save_to_csv_from_yahoo('AMZN', 2021, 1, 1, 2022, 1, 1)\n",
    "\n",
    "AMZN = get_df_from_csv('AMZN')\n",
    "\n",
    "add_daily_return_to_df(AMZN, 'AMZN')\n",
    "\n",
    "AMZN"
   ]
  },
  {
   "cell_type": "code",
   "execution_count": null,
   "metadata": {},
   "outputs": [],
   "source": []
  },
  {
   "cell_type": "code",
   "execution_count": null,
   "metadata": {},
   "outputs": [],
   "source": []
  },
  {
   "cell_type": "code",
   "execution_count": null,
   "metadata": {},
   "outputs": [],
   "source": []
  },
  {
   "cell_type": "code",
   "execution_count": null,
   "metadata": {},
   "outputs": [],
   "source": []
  },
  {
   "cell_type": "code",
   "execution_count": null,
   "metadata": {},
   "outputs": [],
   "source": []
  },
  {
   "cell_type": "code",
   "execution_count": null,
   "metadata": {},
   "outputs": [],
   "source": []
  },
  {
   "cell_type": "code",
   "execution_count": null,
   "metadata": {},
   "outputs": [],
   "source": []
  },
  {
   "cell_type": "code",
   "execution_count": null,
   "metadata": {},
   "outputs": [],
   "source": []
  },
  {
   "cell_type": "code",
   "execution_count": null,
   "metadata": {},
   "outputs": [],
   "source": []
  },
  {
   "cell_type": "code",
   "execution_count": null,
   "metadata": {},
   "outputs": [],
   "source": []
  },
  {
   "cell_type": "code",
   "execution_count": null,
   "metadata": {},
   "outputs": [],
   "source": []
  },
  {
   "cell_type": "code",
   "execution_count": null,
   "metadata": {},
   "outputs": [],
   "source": []
  },
  {
   "cell_type": "code",
   "execution_count": null,
   "metadata": {},
   "outputs": [],
   "source": []
  },
  {
   "cell_type": "code",
   "execution_count": null,
   "metadata": {},
   "outputs": [],
   "source": []
  },
  {
   "cell_type": "code",
   "execution_count": null,
   "metadata": {},
   "outputs": [],
   "source": []
  },
  {
   "cell_type": "code",
   "execution_count": null,
   "metadata": {},
   "outputs": [],
   "source": []
  }
 ],
 "metadata": {
  "interpreter": {
   "hash": "77ac1adf317d78f4032b658603c0b261cb865e7cb53d1ee6dc3852142ad74f17"
  },
  "kernelspec": {
   "display_name": "Python 3.9.6 ('DSML')",
   "language": "python",
   "name": "python3"
  },
  "language_info": {
   "codemirror_mode": {
    "name": "ipython",
    "version": 3
   },
   "file_extension": ".py",
   "mimetype": "text/x-python",
   "name": "python",
   "nbconvert_exporter": "python",
   "pygments_lexer": "ipython3",
   "version": "3.9.6"
  },
  "orig_nbformat": 4
 },
 "nbformat": 4,
 "nbformat_minor": 2
}
